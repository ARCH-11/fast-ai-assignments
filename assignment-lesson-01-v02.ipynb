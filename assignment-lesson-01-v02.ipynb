{
 "cells": [
  {
   "cell_type": "markdown",
   "metadata": {},
   "source": [
    "# Lesson 1 - Using Convolutional Neural Networks V2"
   ]
  },
  {
   "cell_type": "markdown",
   "metadata": {},
   "source": [
    "Dataset can be downloaded here [Kaggle cats and dogs redux](https://www.kaggle.com/c/dogs-vs-cats-redux-kernels-edition/data)"
   ]
  },
  {
   "cell_type": "code",
   "execution_count": 1,
   "metadata": {
    "collapsed": true
   },
   "outputs": [],
   "source": [
    "%cd -q data"
   ]
  },
  {
   "cell_type": "code",
   "execution_count": 2,
   "metadata": {
    "collapsed": true
   },
   "outputs": [],
   "source": [
    "%mkdir -p fast-ai-data"
   ]
  },
  {
   "cell_type": "code",
   "execution_count": 3,
   "metadata": {
    "collapsed": true
   },
   "outputs": [],
   "source": [
    "%mkdir -p fast-ai-data/train\n",
    "%mkdir -p fast-ai-data/valid\n",
    "%mkdir -p fast-ai-data/sample"
   ]
  },
  {
   "cell_type": "code",
   "execution_count": 4,
   "metadata": {},
   "outputs": [
    {
     "name": "stdout",
     "output_type": "stream",
     "text": [
      "\u001b[0m\u001b[01;34msample\u001b[0m/  \u001b[01;34mtrain\u001b[0m/  \u001b[01;34mvalid\u001b[0m/\r\n"
     ]
    }
   ],
   "source": [
    "%cd -q fast-ai-data/\n",
    "%ls"
   ]
  },
  {
   "cell_type": "code",
   "execution_count": 5,
   "metadata": {
    "collapsed": true
   },
   "outputs": [],
   "source": [
    "import glob\n",
    "import os\n",
    "from shutil import copyfile\n",
    "import numpy as np"
   ]
  },
  {
   "cell_type": "code",
   "execution_count": 6,
   "metadata": {},
   "outputs": [
    {
     "name": "stdout",
     "output_type": "stream",
     "text": [
      "12500\n",
      "12500\n"
     ]
    }
   ],
   "source": [
    "dogs = glob.glob('../train/dog*.jpg')\n",
    "cats = glob.glob('../train/cat*.jpg')\n",
    "\n",
    "print(len(dogs))\n",
    "print(len(cats))"
   ]
  },
  {
   "cell_type": "code",
   "execution_count": 7,
   "metadata": {
    "collapsed": true
   },
   "outputs": [],
   "source": [
    "%mkdir -p train/dogs\n",
    "%mkdir -p train/cats"
   ]
  },
  {
   "cell_type": "code",
   "execution_count": 8,
   "metadata": {},
   "outputs": [
    {
     "name": "stdout",
     "output_type": "stream",
     "text": [
      "0\n",
      "0\n"
     ]
    }
   ],
   "source": [
    "%ls train/dogs | wc -l\n",
    "%ls train/cats | wc -l"
   ]
  },
  {
   "cell_type": "code",
   "execution_count": 9,
   "metadata": {
    "collapsed": true
   },
   "outputs": [],
   "source": [
    "# prepare the data as it is in the format of fast.ai lesson\n",
    "# path to this data: data/fast-ai-data/\n",
    "for i in range(len(dogs)): copyfile(dogs[i], 'train/dogs/' + str(i) + '.jpg')\n",
    "for i in range(len(cats)): copyfile(cats[i], 'train/cats/' + str(i) + '.jpg')"
   ]
  },
  {
   "cell_type": "code",
   "execution_count": 10,
   "metadata": {},
   "outputs": [
    {
     "name": "stdout",
     "output_type": "stream",
     "text": [
      "12500\n",
      "12500\n"
     ]
    }
   ],
   "source": [
    "%ls train/dogs | wc -l\n",
    "%ls train/cats | wc -l"
   ]
  },
  {
   "cell_type": "code",
   "execution_count": 11,
   "metadata": {},
   "outputs": [
    {
     "name": "stdout",
     "output_type": "stream",
     "text": [
      "12500\n",
      "12500\n"
     ]
    }
   ],
   "source": [
    "dogs = glob.glob('train/dogs/*.jpg')\n",
    "cats = glob.glob('train/cats/*.jpg')\n",
    "\n",
    "print(len(dogs))\n",
    "print(len(cats))"
   ]
  },
  {
   "cell_type": "code",
   "execution_count": 12,
   "metadata": {},
   "outputs": [
    {
     "name": "stdout",
     "output_type": "stream",
     "text": [
      "['train/dogs/10.jpg', 'train/dogs/11518.jpg', 'train/dogs/10070.jpg']\n",
      "['train/dogs/7790.jpg' 'train/dogs/6713.jpg' 'train/dogs/1748.jpg']\n"
     ]
    }
   ],
   "source": [
    "# shuffle to move validation samples to valid/ directory\n",
    "shuf_dogs = np.random.permutation(dogs)\n",
    "shuf_cats = np.random.permutation(cats)\n",
    "print(dogs[:3])\n",
    "print(shuf_dogs[:3])"
   ]
  },
  {
   "cell_type": "code",
   "execution_count": 13,
   "metadata": {
    "collapsed": true
   },
   "outputs": [],
   "source": [
    "%mkdir -p ./valid/dogs\n",
    "%mkdir -p ./valid/cats"
   ]
  },
  {
   "cell_type": "code",
   "execution_count": 14,
   "metadata": {},
   "outputs": [
    {
     "name": "stdout",
     "output_type": "stream",
     "text": [
      "0\n",
      "0\n"
     ]
    }
   ],
   "source": [
    "%ls ./valid/dogs | wc -l\n",
    "%ls ./valid/cats | wc -l"
   ]
  },
  {
   "cell_type": "code",
   "execution_count": 15,
   "metadata": {
    "collapsed": true
   },
   "outputs": [],
   "source": [
    "for i in range(1000): os.rename(shuf_dogs[i], './valid/dogs/' + shuf_dogs[i].split('/')[-1])\n",
    "for i in range(1000): os.rename(shuf_cats[i], './valid/cats/' + shuf_cats[i].split('/')[-1])"
   ]
  },
  {
   "cell_type": "code",
   "execution_count": 16,
   "metadata": {},
   "outputs": [
    {
     "name": "stdout",
     "output_type": "stream",
     "text": [
      "11500\n",
      "11500\n",
      "1000\n",
      "1000\n"
     ]
    }
   ],
   "source": [
    "%ls ./train/dogs | wc -l\n",
    "%ls ./train/cats | wc -l\n",
    "\n",
    "%ls ./valid/dogs | wc -l\n",
    "%ls ./valid/cats | wc -l"
   ]
  },
  {
   "cell_type": "code",
   "execution_count": 17,
   "metadata": {
    "collapsed": true
   },
   "outputs": [],
   "source": [
    "%mkdir -p sample/dogs\n",
    "%mkdir -p sample/cats"
   ]
  },
  {
   "cell_type": "code",
   "execution_count": 18,
   "metadata": {
    "collapsed": true
   },
   "outputs": [],
   "source": [
    "dogs = glob.glob('train/dogs/*.jpg')\n",
    "cats = glob.glob('train/cats/*.jpg')"
   ]
  },
  {
   "cell_type": "code",
   "execution_count": 19,
   "metadata": {
    "collapsed": true
   },
   "outputs": [],
   "source": [
    "# copy samples\n",
    "for i in range(100): copyfile(dogs[i], './sample/dogs/' + cats[i].split('/')[-1])\n",
    "for i in range(100): copyfile(dogs[i], './sample/cats/' + cats[i].split('/')[-1])"
   ]
  },
  {
   "cell_type": "code",
   "execution_count": 20,
   "metadata": {},
   "outputs": [
    {
     "name": "stdout",
     "output_type": "stream",
     "text": [
      "100\n",
      "100\n"
     ]
    }
   ],
   "source": [
    "%ls sample/dogs | wc -l\n",
    "%ls sample/cats | wc -l"
   ]
  },
  {
   "cell_type": "code",
   "execution_count": 21,
   "metadata": {},
   "outputs": [
    {
     "name": "stdout",
     "output_type": "stream",
     "text": [
      "\u001b[0m\u001b[01;34mcats\u001b[0m/  \u001b[01;34mdogs\u001b[0m/\r\n"
     ]
    }
   ],
   "source": [
    "%ls sample"
   ]
  },
  {
   "cell_type": "code",
   "execution_count": 25,
   "metadata": {
    "collapsed": true
   },
   "outputs": [],
   "source": [
    "%mkdir -p sample/train/dogs\n",
    "%mkdir -p sample/train/cats\n",
    "%mkdir -p sample/valid/dogs\n",
    "%mkdir -p sample/valid/cats"
   ]
  },
  {
   "cell_type": "code",
   "execution_count": 26,
   "metadata": {},
   "outputs": [
    {
     "name": "stdout",
     "output_type": "stream",
     "text": [
      "\u001b[0m\u001b[01;34mcats\u001b[0m/  \u001b[01;34mdogs\u001b[0m/  \u001b[01;34mtrain\u001b[0m/  \u001b[01;34mvalid\u001b[0m/\r\n"
     ]
    }
   ],
   "source": [
    "%ls sample"
   ]
  },
  {
   "cell_type": "code",
   "execution_count": 27,
   "metadata": {},
   "outputs": [
    {
     "name": "stdout",
     "output_type": "stream",
     "text": [
      "['sample/dogs/10.jpg', 'sample/dogs/11518.jpg', 'sample/dogs/10070.jpg']\n",
      "['sample/cats/10.jpg', 'sample/cats/11518.jpg', 'sample/cats/10070.jpg']\n"
     ]
    }
   ],
   "source": [
    "dogs = glob.glob('sample/dogs/*jpg')\n",
    "cats = glob.glob('sample/cats/*jpg')\n",
    "print(dogs[:3])\n",
    "print(cats[:3])"
   ]
  },
  {
   "cell_type": "code",
   "execution_count": 28,
   "metadata": {
    "collapsed": true
   },
   "outputs": [],
   "source": [
    "for i in range(50): copyfile(dogs[i], 'sample/train/dogs/' + dogs[i].split('/')[-1])\n",
    "for i in range(50,100): copyfile(dogs[i], 'sample/valid/dogs/' + dogs[i].split('/')[-1])\n",
    "for i in range(50): copyfile(cats[i], 'sample/train/cats/' + cats[i].split('/')[-1])\n",
    "for i in range(50,100): copyfile(cats[i], 'sample/valid/cats/' + cats[i].split('/')[-1])"
   ]
  },
  {
   "cell_type": "code",
   "execution_count": 31,
   "metadata": {},
   "outputs": [
    {
     "name": "stdout",
     "output_type": "stream",
     "text": [
      "50\n",
      "50\n",
      "50\n",
      "50\n",
      "100\n",
      "100\n"
     ]
    }
   ],
   "source": [
    "%ls sample/train/dogs | wc -l\n",
    "%ls sample/train/cats | wc -l\n",
    "%ls sample/valid/dogs | wc -l\n",
    "%ls sample/valid/cats | wc -l\n",
    "%ls sample/dogs | wc -l\n",
    "%ls sample/cats | wc -l"
   ]
  },
  {
   "cell_type": "code",
   "execution_count": 33,
   "metadata": {},
   "outputs": [
    {
     "name": "stdout",
     "output_type": "stream",
     "text": [
      "rm: cannot remove 'sample/dogs': No such file or directory\n",
      "rm: cannot remove 'sample/cats': No such file or directory\n",
      "\u001b[0m\u001b[01;34mtrain\u001b[0m/  \u001b[01;34mvalid\u001b[0m/\n"
     ]
    }
   ],
   "source": [
    "%rm -r sample/dogs\n",
    "%rm -r sample/cats\n",
    "%ls sample"
   ]
  },
  {
   "cell_type": "code",
   "execution_count": null,
   "metadata": {
    "collapsed": true
   },
   "outputs": [],
   "source": []
  }
 ],
 "metadata": {
  "kernelspec": {
   "display_name": "Python 3",
   "language": "python",
   "name": "python3"
  },
  "language_info": {
   "codemirror_mode": {
    "name": "ipython",
    "version": 3
   },
   "file_extension": ".py",
   "mimetype": "text/x-python",
   "name": "python",
   "nbconvert_exporter": "python",
   "pygments_lexer": "ipython3",
   "version": "3.6.2"
  }
 },
 "nbformat": 4,
 "nbformat_minor": 2
}
