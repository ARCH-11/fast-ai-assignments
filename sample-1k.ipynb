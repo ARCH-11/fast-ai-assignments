{
 "cells": [
  {
   "cell_type": "code",
   "execution_count": 1,
   "metadata": {},
   "outputs": [],
   "source": [
    "import os\n",
    "import numpy as np\n",
    "import glob\n",
    "import matplotlib.image as mpimg\n",
    "import matplotlib.pyplot as plt\n",
    "import shutil"
   ]
  },
  {
   "cell_type": "code",
   "execution_count": 2,
   "metadata": {},
   "outputs": [
    {
     "name": "stdout",
     "output_type": "stream",
     "text": [
      "12500\n",
      "12500\n"
     ]
    }
   ],
   "source": [
    "cats = glob.glob('data/train/cat*.jpg')\n",
    "dogs = glob.glob('data/train/dog*.jpg')\n",
    "print(len(cats))\n",
    "print(len(dogs))"
   ]
  },
  {
   "cell_type": "code",
   "execution_count": 3,
   "metadata": {
    "scrolled": true
   },
   "outputs": [
    {
     "name": "stdout",
     "output_type": "stream",
     "text": [
      "\u001b[0m\u001b[01;34mtrain\u001b[0m/  \u001b[01;34mvalid\u001b[0m/\n",
      "\u001b[0m\u001b[01;34mcats\u001b[0m/  \u001b[01;34mdogs\u001b[0m/\n",
      "\u001b[0m\u001b[01;34mcats\u001b[0m/  \u001b[01;34mdogs\u001b[0m/\n"
     ]
    }
   ],
   "source": [
    "%mkdir -p data/sample-1k/train/cats\n",
    "%mkdir -p data/sample-1k/train/dogs\n",
    "\n",
    "%mkdir -p data/sample-1k/valid/cats\n",
    "%mkdir -p data/sample-1k/valid/dogs\n",
    "\n",
    "%ls data/sample-1k\n",
    "%ls data/sample-1k/train\n",
    "%ls data/sample-1k/valid"
   ]
  },
  {
   "cell_type": "code",
   "execution_count": 4,
   "metadata": {},
   "outputs": [
    {
     "name": "stdout",
     "output_type": "stream",
     "text": [
      "\u001b[0m\u001b[01;34mtrain\u001b[0m/  \u001b[01;34mvalid\u001b[0m/\n",
      "\u001b[0m\u001b[01;34mcats\u001b[0m/  \u001b[01;34mdogs\u001b[0m/\n",
      "\u001b[0m\u001b[01;34mcats\u001b[0m/  \u001b[01;34mdogs\u001b[0m/\n"
     ]
    }
   ],
   "source": [
    "%mkdir -p data/sample-1k-2/train/cats\n",
    "%mkdir -p data/sample-1k-2/train/dogs\n",
    "\n",
    "%mkdir -p data/sample-1k-2/valid/cats\n",
    "%mkdir -p data/sample-1k-2/valid/dogs\n",
    "\n",
    "%ls data/sample-1k-2\n",
    "%ls data/sample-1k-2/train\n",
    "%ls data/sample-1k-2/valid"
   ]
  },
  {
   "cell_type": "code",
   "execution_count": 5,
   "metadata": {},
   "outputs": [
    {
     "name": "stdout",
     "output_type": "stream",
     "text": [
      "\u001b[0m\u001b[01;34mtrain\u001b[0m/  \u001b[01;34mvalid\u001b[0m/\n",
      "\u001b[0m\u001b[01;34mcats\u001b[0m/  \u001b[01;34mdogs\u001b[0m/\n",
      "\u001b[0m\u001b[01;34mcats\u001b[0m/  \u001b[01;34mdogs\u001b[0m/\n"
     ]
    }
   ],
   "source": [
    "%mkdir -p data/sample-1k-3/train/cats\n",
    "%mkdir -p data/sample-1k-3/train/dogs\n",
    "\n",
    "%mkdir -p data/sample-1k-3/valid/cats\n",
    "%mkdir -p data/sample-1k-3/valid/dogs\n",
    "\n",
    "%ls data/sample-1k-3\n",
    "%ls data/sample-1k-3/train\n",
    "%ls data/sample-1k-3/valid"
   ]
  },
  {
   "cell_type": "code",
   "execution_count": 6,
   "metadata": {},
   "outputs": [
    {
     "name": "stdout",
     "output_type": "stream",
     "text": [
      "\u001b[0m\u001b[01;34mtrain\u001b[0m/  \u001b[01;34mvalid\u001b[0m/\n",
      "\u001b[0m\u001b[01;34mcats\u001b[0m/  \u001b[01;34mdogs\u001b[0m/\n",
      "\u001b[0m\u001b[01;34mcats\u001b[0m/  \u001b[01;34mdogs\u001b[0m/\n"
     ]
    }
   ],
   "source": [
    "%mkdir -p data/sample-1k-4/train/cats\n",
    "%mkdir -p data/sample-1k-4/train/dogs\n",
    "\n",
    "%mkdir -p data/sample-1k-4/valid/cats\n",
    "%mkdir -p data/sample-1k-4/valid/dogs\n",
    "\n",
    "%ls data/sample-1k-4\n",
    "%ls data/sample-1k-4/train\n",
    "%ls data/sample-1k-4/valid"
   ]
  },
  {
   "cell_type": "code",
   "execution_count": 7,
   "metadata": {},
   "outputs": [
    {
     "name": "stdout",
     "output_type": "stream",
     "text": [
      "['data/train/cat.9644.jpg' 'data/train/cat.5707.jpg'\n",
      " 'data/train/cat.7690.jpg' 'data/train/cat.9341.jpg'\n",
      " 'data/train/cat.6610.jpg' 'data/train/cat.9322.jpg'\n",
      " 'data/train/cat.19.jpg' 'data/train/cat.1258.jpg' 'data/train/cat.182.jpg'\n",
      " 'data/train/cat.3879.jpg']\n",
      "\n",
      "['data/train/cat.1917.jpg' 'data/train/cat.2102.jpg'\n",
      " 'data/train/cat.8225.jpg' 'data/train/cat.1636.jpg'\n",
      " 'data/train/cat.2240.jpg' 'data/train/cat.3948.jpg'\n",
      " 'data/train/cat.4563.jpg' 'data/train/cat.6428.jpg'\n",
      " 'data/train/cat.7131.jpg' 'data/train/cat.12337.jpg']\n"
     ]
    }
   ],
   "source": [
    "cats = np.array(cats)\n",
    "perm_cats = np.random.permutation(cats)\n",
    "\n",
    "print(cats[:10])\n",
    "print('')\n",
    "print(perm_cats[:10])"
   ]
  },
  {
   "cell_type": "code",
   "execution_count": 8,
   "metadata": {},
   "outputs": [
    {
     "name": "stdout",
     "output_type": "stream",
     "text": [
      "['data/train/dog.12346.jpg' 'data/train/dog.12274.jpg'\n",
      " 'data/train/dog.7843.jpg' 'data/train/dog.5980.jpg'\n",
      " 'data/train/dog.11944.jpg' 'data/train/dog.1167.jpg'\n",
      " 'data/train/dog.11668.jpg' 'data/train/dog.11398.jpg'\n",
      " 'data/train/dog.12282.jpg' 'data/train/dog.5905.jpg']\n",
      "\n",
      "['data/train/dog.5757.jpg' 'data/train/dog.9627.jpg'\n",
      " 'data/train/dog.11044.jpg' 'data/train/dog.2890.jpg'\n",
      " 'data/train/dog.1130.jpg' 'data/train/dog.4390.jpg'\n",
      " 'data/train/dog.7053.jpg' 'data/train/dog.2453.jpg'\n",
      " 'data/train/dog.9445.jpg' 'data/train/dog.11591.jpg']\n"
     ]
    }
   ],
   "source": [
    "dogs = np.array(dogs)\n",
    "perm_dogs = np.random.permutation(dogs)\n",
    "\n",
    "print(dogs[:10])\n",
    "print('')\n",
    "print(perm_dogs[:10])"
   ]
  },
  {
   "cell_type": "code",
   "execution_count": 9,
   "metadata": {
    "scrolled": false
   },
   "outputs": [],
   "source": [
    "for i in range(0,500):\n",
    "    shutil.copy(perm_cats[i],'data/sample-1k/train/cats')\n",
    "    shutil.copy(perm_dogs[i],'data/sample-1k/train/dogs')"
   ]
  },
  {
   "cell_type": "code",
   "execution_count": 10,
   "metadata": {},
   "outputs": [
    {
     "name": "stdout",
     "output_type": "stream",
     "text": [
      "500\n",
      "500\n"
     ]
    }
   ],
   "source": [
    "%ls data/sample-1k/train/cats | wc -l\n",
    "%ls data/sample-1k/train/dogs | wc -l"
   ]
  },
  {
   "cell_type": "code",
   "execution_count": 11,
   "metadata": {},
   "outputs": [],
   "source": [
    "for i in range(500,1500):\n",
    "    shutil.copy(perm_cats[i],'data/sample-1k/valid/cats')\n",
    "    shutil.copy(perm_dogs[i],'data/sample-1k/valid/dogs')"
   ]
  },
  {
   "cell_type": "code",
   "execution_count": 12,
   "metadata": {},
   "outputs": [
    {
     "name": "stdout",
     "output_type": "stream",
     "text": [
      "1000\n",
      "1000\n"
     ]
    }
   ],
   "source": [
    "%ls data/sample-1k/valid/cats | wc -l\n",
    "%ls data/sample-1k/valid/dogs | wc -l"
   ]
  },
  {
   "cell_type": "code",
   "execution_count": 13,
   "metadata": {},
   "outputs": [
    {
     "name": "stdout",
     "output_type": "stream",
     "text": [
      "500\n",
      "500\n",
      "1000\n",
      "1000\n"
     ]
    }
   ],
   "source": [
    "perm_cats = np.random.permutation(cats)\n",
    "perm_dogs = np.random.permutation(dogs)\n",
    "\n",
    "for i in range(0,500):\n",
    "    shutil.copy(perm_cats[i],'data/sample-1k-2/train/cats')\n",
    "    shutil.copy(perm_dogs[i],'data/sample-1k-2/train/dogs')\n",
    "\n",
    "%ls data/sample-1k-2/train/cats | wc -l\n",
    "%ls data/sample-1k-2/train/dogs | wc -l\n",
    "\n",
    "for i in range(500,1500):\n",
    "    shutil.copy(perm_cats[i],'data/sample-1k-2/valid/cats')\n",
    "    shutil.copy(perm_dogs[i],'data/sample-1k-2/valid/dogs')\n",
    "\n",
    "%ls data/sample-1k-2/valid/cats | wc -l\n",
    "%ls data/sample-1k-2/valid/dogs | wc -l"
   ]
  },
  {
   "cell_type": "code",
   "execution_count": 14,
   "metadata": {},
   "outputs": [
    {
     "name": "stdout",
     "output_type": "stream",
     "text": [
      "500\n",
      "500\n",
      "1000\n",
      "1000\n"
     ]
    }
   ],
   "source": [
    "perm_cats = np.random.permutation(cats)\n",
    "perm_dogs = np.random.permutation(dogs)\n",
    "\n",
    "for i in range(0,500):\n",
    "    shutil.copy(perm_cats[i],'data/sample-1k-3/train/cats')\n",
    "    shutil.copy(perm_dogs[i],'data/sample-1k-3/train/dogs')\n",
    "\n",
    "%ls data/sample-1k-3/train/cats | wc -l\n",
    "%ls data/sample-1k-3/train/dogs | wc -l\n",
    "\n",
    "for i in range(500,1500):\n",
    "    shutil.copy(perm_cats[i],'data/sample-1k-3/valid/cats')\n",
    "    shutil.copy(perm_dogs[i],'data/sample-1k-3/valid/dogs')\n",
    "\n",
    "%ls data/sample-1k-3/valid/cats | wc -l\n",
    "%ls data/sample-1k-3/valid/dogs | wc -l"
   ]
  },
  {
   "cell_type": "code",
   "execution_count": 15,
   "metadata": {},
   "outputs": [
    {
     "name": "stdout",
     "output_type": "stream",
     "text": [
      "500\n",
      "500\n",
      "1000\n",
      "1000\n"
     ]
    }
   ],
   "source": [
    "perm_cats = np.random.permutation(cats)\n",
    "perm_dogs = np.random.permutation(dogs)\n",
    "\n",
    "for i in range(0,500):\n",
    "    shutil.copy(perm_cats[i],'data/sample-1k-4/train/cats')\n",
    "    shutil.copy(perm_dogs[i],'data/sample-1k-4/train/dogs')\n",
    "\n",
    "%ls data/sample-1k-4/train/cats | wc -l\n",
    "%ls data/sample-1k-4/train/dogs | wc -l\n",
    "\n",
    "for i in range(500,1500):\n",
    "    shutil.copy(perm_cats[i],'data/sample-1k-4/valid/cats')\n",
    "    shutil.copy(perm_dogs[i],'data/sample-1k-4/valid/dogs')\n",
    "\n",
    "%ls data/sample-1k-4/valid/cats | wc -l\n",
    "%ls data/sample-1k-4/valid/dogs | wc -l"
   ]
  }
 ],
 "metadata": {
  "kernelspec": {
   "display_name": "Python 3",
   "language": "python",
   "name": "python3"
  },
  "language_info": {
   "codemirror_mode": {
    "name": "ipython",
    "version": 3
   },
   "file_extension": ".py",
   "mimetype": "text/x-python",
   "name": "python",
   "nbconvert_exporter": "python",
   "pygments_lexer": "ipython3",
   "version": "3.6.3"
  }
 },
 "nbformat": 4,
 "nbformat_minor": 2
}
