{
 "cells": [
  {
   "cell_type": "code",
   "execution_count": 1,
   "metadata": {},
   "outputs": [],
   "source": [
    "import os\n",
    "import numpy as np\n",
    "import glob\n",
    "import matplotlib.image as mpimg\n",
    "import matplotlib.pyplot as plt\n",
    "import shutil"
   ]
  },
  {
   "cell_type": "code",
   "execution_count": 2,
   "metadata": {},
   "outputs": [
    {
     "name": "stdout",
     "output_type": "stream",
     "text": [
      "12500\n",
      "12500\n"
     ]
    }
   ],
   "source": [
    "cats = glob.glob('data/train/cat*.jpg')\n",
    "dogs = glob.glob('data/train/dog*.jpg')\n",
    "print(len(cats))\n",
    "print(len(dogs))"
   ]
  },
  {
   "cell_type": "code",
   "execution_count": 3,
   "metadata": {
    "scrolled": true
   },
   "outputs": [
    {
     "name": "stdout",
     "output_type": "stream",
     "text": [
      "\u001b[0m\u001b[01;34mtrain\u001b[0m/  \u001b[01;34mvalid\u001b[0m/\n",
      "\u001b[0m\u001b[01;34mcats\u001b[0m/  \u001b[01;34mdogs\u001b[0m/\n",
      "\u001b[0m\u001b[01;34mcats\u001b[0m/  \u001b[01;34mdogs\u001b[0m/\n"
     ]
    }
   ],
   "source": [
    "%mkdir -p data/sample-5k/train/cats\n",
    "%mkdir -p data/sample-5k/train/dogs\n",
    "\n",
    "%mkdir -p data/sample-5k/valid/cats\n",
    "%mkdir -p data/sample-5k/valid/dogs\n",
    "\n",
    "%ls data/sample-5k\n",
    "%ls data/sample-5k/train\n",
    "%ls data/sample-5k/valid"
   ]
  },
  {
   "cell_type": "code",
   "execution_count": 4,
   "metadata": {},
   "outputs": [
    {
     "name": "stdout",
     "output_type": "stream",
     "text": [
      "['data/train/cat.9644.jpg' 'data/train/cat.5707.jpg'\n",
      " 'data/train/cat.7690.jpg' 'data/train/cat.9341.jpg'\n",
      " 'data/train/cat.6610.jpg' 'data/train/cat.9322.jpg'\n",
      " 'data/train/cat.19.jpg' 'data/train/cat.1258.jpg' 'data/train/cat.182.jpg'\n",
      " 'data/train/cat.3879.jpg']\n",
      "\n",
      "['data/train/cat.10324.jpg' 'data/train/cat.3755.jpg'\n",
      " 'data/train/cat.10166.jpg' 'data/train/cat.7194.jpg'\n",
      " 'data/train/cat.5727.jpg' 'data/train/cat.12290.jpg'\n",
      " 'data/train/cat.12302.jpg' 'data/train/cat.12314.jpg'\n",
      " 'data/train/cat.9387.jpg' 'data/train/cat.7463.jpg']\n"
     ]
    }
   ],
   "source": [
    "cats = np.array(cats)\n",
    "perm_cats = np.random.permutation(cats)\n",
    "\n",
    "print(cats[:10])\n",
    "print('')\n",
    "print(perm_cats[:10])"
   ]
  },
  {
   "cell_type": "code",
   "execution_count": 5,
   "metadata": {},
   "outputs": [
    {
     "name": "stdout",
     "output_type": "stream",
     "text": [
      "['data/train/dog.12346.jpg' 'data/train/dog.12274.jpg'\n",
      " 'data/train/dog.7843.jpg' 'data/train/dog.5980.jpg'\n",
      " 'data/train/dog.11944.jpg' 'data/train/dog.1167.jpg'\n",
      " 'data/train/dog.11668.jpg' 'data/train/dog.11398.jpg'\n",
      " 'data/train/dog.12282.jpg' 'data/train/dog.5905.jpg']\n",
      "\n",
      "['data/train/dog.7003.jpg' 'data/train/dog.3613.jpg'\n",
      " 'data/train/dog.11499.jpg' 'data/train/dog.3645.jpg'\n",
      " 'data/train/dog.11614.jpg' 'data/train/dog.9793.jpg'\n",
      " 'data/train/dog.9499.jpg' 'data/train/dog.3147.jpg'\n",
      " 'data/train/dog.3443.jpg' 'data/train/dog.2355.jpg']\n"
     ]
    }
   ],
   "source": [
    "dogs = np.array(dogs)\n",
    "perm_dogs = np.random.permutation(dogs)\n",
    "\n",
    "print(dogs[:10])\n",
    "print('')\n",
    "print(perm_dogs[:10])"
   ]
  },
  {
   "cell_type": "code",
   "execution_count": 6,
   "metadata": {
    "scrolled": false
   },
   "outputs": [],
   "source": [
    "for i in range(0,2500):\n",
    "    shutil.copy(perm_cats[i],'data/sample-5k/train/cats')\n",
    "    shutil.copy(perm_dogs[i],'data/sample-5k/train/dogs')"
   ]
  },
  {
   "cell_type": "code",
   "execution_count": 7,
   "metadata": {},
   "outputs": [
    {
     "name": "stdout",
     "output_type": "stream",
     "text": [
      "2500\n",
      "2500\n"
     ]
    }
   ],
   "source": [
    "%ls data/sample-5k/train/cats | wc -l\n",
    "%ls data/sample-5k/train/dogs | wc -l"
   ]
  },
  {
   "cell_type": "code",
   "execution_count": 8,
   "metadata": {},
   "outputs": [],
   "source": [
    "for i in range(2500,5000):\n",
    "    shutil.copy(perm_cats[i],'data/sample-5k/valid/cats')\n",
    "    shutil.copy(perm_dogs[i],'data/sample-5k/valid/dogs')"
   ]
  },
  {
   "cell_type": "code",
   "execution_count": 9,
   "metadata": {},
   "outputs": [
    {
     "name": "stdout",
     "output_type": "stream",
     "text": [
      "2500\n",
      "2500\n"
     ]
    }
   ],
   "source": [
    "%ls data/sample-5k/valid/cats | wc -l\n",
    "%ls data/sample-5k/valid/dogs | wc -l"
   ]
  }
 ],
 "metadata": {
  "kernelspec": {
   "display_name": "Python 3",
   "language": "python",
   "name": "python3"
  },
  "language_info": {
   "codemirror_mode": {
    "name": "ipython",
    "version": 3
   },
   "file_extension": ".py",
   "mimetype": "text/x-python",
   "name": "python",
   "nbconvert_exporter": "python",
   "pygments_lexer": "ipython3",
   "version": "3.6.3"
  }
 },
 "nbformat": 4,
 "nbformat_minor": 2
}
